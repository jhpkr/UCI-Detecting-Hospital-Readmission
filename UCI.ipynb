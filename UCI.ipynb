{
  "cells": [
    {
      "cell_type": "markdown",
      "source": [
        "This project aims to analyze a large set of hospital data to identify features that impact diabetic readmission and predict whether patients should be recommended to readmit. The underlying business goal for the client (a hospital doing diabetic treatment and readmission care) is to improve care by using the model to supplement doctors’ decisions and therefore increase profit. Based on a cost matrix built from U.S. hospital averages, models can potentially increase the client’s profits by over a hundred million dollars a year. "
      ],
      "metadata": {
        "id": "MG5-_NXyRVeP"
      }
    },
    {
      "cell_type": "markdown",
      "source": [
        "##Setting Up"
      ],
      "metadata": {
        "id": "O7xMePpCFXoh"
      }
    },
    {
      "cell_type": "code",
      "execution_count": null,
      "metadata": {
        "id": "Bq5pu-LrAxCe"
      },
      "outputs": [],
      "source": [
        "import warnings\n",
        "warnings.filterwarnings(\"ignore\")\n",
        "\n",
        "import pandas as pd\n",
        "import seaborn as sns\n",
        "import numpy as np\n",
        "import matplotlib.pyplot as plt\n",
        "%matplotlib inline\n",
        "\n",
        "from scipy.stats import uniform, randint\n",
        "\n",
        "from sklearn.neural_network import MLPClassifier\n",
        "from sklearn.neighbors import KNeighborsClassifier\n",
        "from sklearn.linear_model import LogisticRegression\n",
        "import statsmodels.api as sm ## Generate coefficient statistics for logistic regression\n",
        "from sklearn.svm import LinearSVC, SVC\n",
        " \n",
        "from sklearn.metrics import accuracy_score, confusion_matrix, plot_confusion_matrix # accuracy and confusion matrix\n",
        "from sklearn.metrics import precision_score, recall_score, f1_score, classification_report # precision, recall, and f1\n",
        "from sklearn.metrics import plot_roc_curve, roc_auc_score # roc and auc\n",
        "\n",
        "from sklearn.pipeline import Pipeline\n",
        "from sklearn.preprocessing import StandardScaler, PolynomialFeatures\n",
        "\n",
        "from sklearn.model_selection import train_test_split, GridSearchCV, RandomizedSearchCV"
      ]
    },
    {
      "cell_type": "markdown",
      "source": [
        "## EDA and Data Prep"
      ],
      "metadata": {
        "id": "IDZjK7q-Hb6q"
      }
    },
    {
      "cell_type": "code",
      "execution_count": null,
      "metadata": {
        "id": "Zi_ZjjurG8cC"
      },
      "outputs": [],
      "source": [
        "# Read the .csv file and store it as a pandas DataFrame\n",
        "db = pd.read_csv(\"diabetic_data.csv\")\n",
        "\n",
        "# Get the shape\n",
        "print(\"Data shape (rows, cols):\")\n",
        "print(db.shape)\n",
        "\n",
        "# Get the column types\n",
        "print(\"\\nFeature types:\")\n",
        "print(db.dtypes)\n",
        "\n",
        "# Get the missing values\n",
        "print(\"\\nMissing info:\")\n",
        "print(db.isna().sum())\n",
        "\n",
        "# View the data\n",
        "db.head()"
      ]
    },
    {
      "cell_type": "code",
      "execution_count": null,
      "metadata": {
        "id": "w06NjJ7QG8cE"
      },
      "outputs": [],
      "source": [
        "print(db.readmitted.value_counts()/db.readmitted.count())\n",
        "sns.countplot(db.readmitted)"
      ]
    },
    {
      "cell_type": "code",
      "execution_count": null,
      "metadata": {
        "id": "HFDcScQRG8cG"
      },
      "outputs": [],
      "source": [
        "#db['diag_1'] = db.diag_1.replace({'?': None})\n",
        "#db['diag_2'] = db.diag_2.replace({'?': None})\n",
        "#db['diag_3'] = db.diag_3.replace({'?': None})\n",
        "\n",
        "#db.head()"
      ]
    },
    {
      "cell_type": "code",
      "execution_count": null,
      "metadata": {
        "id": "_m5JbzdUG8cH",
        "outputId": "7cba39a1-1114-403b-94fe-12f186d19853"
      },
      "outputs": [
        {
          "name": "stdout",
          "output_type": "stream",
          "text": [
            "['Caucasian', 'AfricanAmerican', 'Asian', 'Hispanic', 'Other', 'gender', 'age', 'admission_type_id', 'discharge_disposition_id', 'admission_source_id', 'time_in_hospital', 'num_lab_procedures', 'num_procedures', 'num_medications', 'number_outpatient', 'number_emergency', 'number_inpatient', 'diag_1', 'diag_2', 'diag_3', 'number_diagnoses', 'max_glu_serum', 'A1Cresult', 'metformin', 'repaglinide', 'nateglinide', 'chlorpropamide', 'glimepiride', 'acetohexamide', 'glipizide', 'glyburide', 'tolbutamide', 'pioglitazone', 'rosiglitazone', 'acarbose', 'miglitol', 'troglitazone', 'tolazamide', 'examide', 'citoglipton', 'insulin', 'glyburide-metformin', 'glipizide-metformin', 'glimepiride-pioglitazone', 'metformin-rosiglitazone', 'metformin-pioglitazone', 'change', 'diabetesMed']\n",
            "['0', '1']\n"
          ]
        }
      ],
      "source": [
        "\n",
        "target_name = \"readmitted\"\n",
        "\n",
        "\n",
        "X = db.drop(target_name, axis = 1)\n",
        "X = X.drop(\"encounter_id\", axis = 1)\n",
        "X = X.drop(\"patient_nbr\", axis = 1)\n",
        "\n",
        "y = db[target_name]\n",
        "\n",
        "\n",
        "fnames = list(X.columns)\n",
        "print(fnames)\n",
        "\n",
        "findex = X.index\n",
        "\n",
        "cnames = np.sort(y.unique())\n",
        "cnames = [str(x) for x in cnames] \n",
        "\n",
        "print(cnames)"
      ]
    },
    {
      "cell_type": "code",
      "execution_count": null,
      "metadata": {
        "id": "nT2jrgFjG8cI",
        "outputId": "d5687967-ba2f-4d05-e437-1b17f82b170c"
      },
      "outputs": [
        {
          "data": {
            "text/html": [
              "<div>\n",
              "<style scoped>\n",
              "    .dataframe tbody tr th:only-of-type {\n",
              "        vertical-align: middle;\n",
              "    }\n",
              "\n",
              "    .dataframe tbody tr th {\n",
              "        vertical-align: top;\n",
              "    }\n",
              "\n",
              "    .dataframe thead th {\n",
              "        text-align: right;\n",
              "    }\n",
              "</style>\n",
              "<table border=\"1\" class=\"dataframe\">\n",
              "  <thead>\n",
              "    <tr style=\"text-align: right;\">\n",
              "      <th></th>\n",
              "      <th>Caucasian</th>\n",
              "      <th>AfricanAmerican</th>\n",
              "      <th>Asian</th>\n",
              "      <th>Hispanic</th>\n",
              "      <th>Other</th>\n",
              "      <th>gender</th>\n",
              "      <th>age</th>\n",
              "      <th>admission_type_id</th>\n",
              "      <th>discharge_disposition_id</th>\n",
              "      <th>admission_source_id</th>\n",
              "      <th>...</th>\n",
              "      <th>examide</th>\n",
              "      <th>citoglipton</th>\n",
              "      <th>insulin</th>\n",
              "      <th>glyburide-metformin</th>\n",
              "      <th>glipizide-metformin</th>\n",
              "      <th>glimepiride-pioglitazone</th>\n",
              "      <th>metformin-rosiglitazone</th>\n",
              "      <th>metformin-pioglitazone</th>\n",
              "      <th>change</th>\n",
              "      <th>diabetesMed</th>\n",
              "    </tr>\n",
              "  </thead>\n",
              "  <tbody>\n",
              "    <tr>\n",
              "      <th>count</th>\n",
              "      <td>9.329500e+04</td>\n",
              "      <td>9.329500e+04</td>\n",
              "      <td>9.329500e+04</td>\n",
              "      <td>9.329500e+04</td>\n",
              "      <td>9.329500e+04</td>\n",
              "      <td>9.329500e+04</td>\n",
              "      <td>9.329500e+04</td>\n",
              "      <td>9.329500e+04</td>\n",
              "      <td>9.329500e+04</td>\n",
              "      <td>9.329500e+04</td>\n",
              "      <td>...</td>\n",
              "      <td>93295.0</td>\n",
              "      <td>93295.0</td>\n",
              "      <td>9.329500e+04</td>\n",
              "      <td>9.329500e+04</td>\n",
              "      <td>9.329500e+04</td>\n",
              "      <td>9.329500e+04</td>\n",
              "      <td>9.329500e+04</td>\n",
              "      <td>93295.000000</td>\n",
              "      <td>9.329500e+04</td>\n",
              "      <td>9.329500e+04</td>\n",
              "    </tr>\n",
              "    <tr>\n",
              "      <th>mean</th>\n",
              "      <td>-1.218574e-18</td>\n",
              "      <td>1.340431e-17</td>\n",
              "      <td>1.035788e-17</td>\n",
              "      <td>-4.508723e-17</td>\n",
              "      <td>-1.584146e-17</td>\n",
              "      <td>-2.802720e-17</td>\n",
              "      <td>-3.168292e-17</td>\n",
              "      <td>9.748590e-17</td>\n",
              "      <td>3.533864e-17</td>\n",
              "      <td>4.386865e-17</td>\n",
              "      <td>...</td>\n",
              "      <td>0.0</td>\n",
              "      <td>0.0</td>\n",
              "      <td>2.376219e-17</td>\n",
              "      <td>1.279502e-17</td>\n",
              "      <td>1.599378e-18</td>\n",
              "      <td>-2.094424e-19</td>\n",
              "      <td>2.894113e-18</td>\n",
              "      <td>0.000000</td>\n",
              "      <td>4.813366e-17</td>\n",
              "      <td>-6.488905e-17</td>\n",
              "    </tr>\n",
              "    <tr>\n",
              "      <th>std</th>\n",
              "      <td>1.000005e+00</td>\n",
              "      <td>1.000005e+00</td>\n",
              "      <td>1.000005e+00</td>\n",
              "      <td>1.000005e+00</td>\n",
              "      <td>1.000005e+00</td>\n",
              "      <td>1.000005e+00</td>\n",
              "      <td>1.000005e+00</td>\n",
              "      <td>1.000005e+00</td>\n",
              "      <td>1.000005e+00</td>\n",
              "      <td>1.000005e+00</td>\n",
              "      <td>...</td>\n",
              "      <td>0.0</td>\n",
              "      <td>0.0</td>\n",
              "      <td>1.000005e+00</td>\n",
              "      <td>1.000005e+00</td>\n",
              "      <td>1.000005e+00</td>\n",
              "      <td>1.000005e+00</td>\n",
              "      <td>1.000005e+00</td>\n",
              "      <td>1.000005</td>\n",
              "      <td>1.000005e+00</td>\n",
              "      <td>1.000005e+00</td>\n",
              "    </tr>\n",
              "    <tr>\n",
              "      <th>min</th>\n",
              "      <td>-1.821377e+00</td>\n",
              "      <td>-4.848440e-01</td>\n",
              "      <td>-8.004810e-02</td>\n",
              "      <td>-1.436403e-01</td>\n",
              "      <td>-1.221701e-01</td>\n",
              "      <td>-9.260751e-01</td>\n",
              "      <td>-3.849467e+00</td>\n",
              "      <td>-6.959781e-01</td>\n",
              "      <td>-5.134565e-01</td>\n",
              "      <td>-1.187037e+00</td>\n",
              "      <td>...</td>\n",
              "      <td>0.0</td>\n",
              "      <td>0.0</td>\n",
              "      <td>-9.699654e-01</td>\n",
              "      <td>-8.325847e-02</td>\n",
              "      <td>-9.260500e-03</td>\n",
              "      <td>-3.273958e-03</td>\n",
              "      <td>-4.630101e-03</td>\n",
              "      <td>-0.003274</td>\n",
              "      <td>-9.275938e-01</td>\n",
              "      <td>-1.830474e+00</td>\n",
              "    </tr>\n",
              "    <tr>\n",
              "      <th>25%</th>\n",
              "      <td>5.490352e-01</td>\n",
              "      <td>-4.848440e-01</td>\n",
              "      <td>-8.004810e-02</td>\n",
              "      <td>-1.436403e-01</td>\n",
              "      <td>-1.221701e-01</td>\n",
              "      <td>-9.260751e-01</td>\n",
              "      <td>-6.996649e-01</td>\n",
              "      <td>-6.959781e-01</td>\n",
              "      <td>-5.134565e-01</td>\n",
              "      <td>-1.187037e+00</td>\n",
              "      <td>...</td>\n",
              "      <td>0.0</td>\n",
              "      <td>0.0</td>\n",
              "      <td>-9.699654e-01</td>\n",
              "      <td>-8.325847e-02</td>\n",
              "      <td>-9.260500e-03</td>\n",
              "      <td>-3.273958e-03</td>\n",
              "      <td>-4.630101e-03</td>\n",
              "      <td>-0.003274</td>\n",
              "      <td>-9.275938e-01</td>\n",
              "      <td>5.463067e-01</td>\n",
              "    </tr>\n",
              "    <tr>\n",
              "      <th>50%</th>\n",
              "      <td>5.490352e-01</td>\n",
              "      <td>-4.848440e-01</td>\n",
              "      <td>-8.004810e-02</td>\n",
              "      <td>-1.436403e-01</td>\n",
              "      <td>-1.221701e-01</td>\n",
              "      <td>-9.260751e-01</td>\n",
              "      <td>-6.970450e-02</td>\n",
              "      <td>-6.959781e-01</td>\n",
              "      <td>-5.134565e-01</td>\n",
              "      <td>2.903589e-01</td>\n",
              "      <td>...</td>\n",
              "      <td>0.0</td>\n",
              "      <td>0.0</td>\n",
              "      <td>-6.099124e-02</td>\n",
              "      <td>-8.325847e-02</td>\n",
              "      <td>-9.260500e-03</td>\n",
              "      <td>-3.273958e-03</td>\n",
              "      <td>-4.630101e-03</td>\n",
              "      <td>-0.003274</td>\n",
              "      <td>-9.275938e-01</td>\n",
              "      <td>5.463067e-01</td>\n",
              "    </tr>\n",
              "    <tr>\n",
              "      <th>75%</th>\n",
              "      <td>5.490352e-01</td>\n",
              "      <td>-4.848440e-01</td>\n",
              "      <td>-8.004810e-02</td>\n",
              "      <td>-1.436403e-01</td>\n",
              "      <td>-1.221701e-01</td>\n",
              "      <td>1.079826e+00</td>\n",
              "      <td>5.602559e-01</td>\n",
              "      <td>6.851271e-01</td>\n",
              "      <td>-1.338139e-01</td>\n",
              "      <td>2.903589e-01</td>\n",
              "      <td>...</td>\n",
              "      <td>0.0</td>\n",
              "      <td>0.0</td>\n",
              "      <td>8.479829e-01</td>\n",
              "      <td>-8.325847e-02</td>\n",
              "      <td>-9.260500e-03</td>\n",
              "      <td>-3.273958e-03</td>\n",
              "      <td>-4.630101e-03</td>\n",
              "      <td>-0.003274</td>\n",
              "      <td>1.078058e+00</td>\n",
              "      <td>5.463067e-01</td>\n",
              "    </tr>\n",
              "    <tr>\n",
              "      <th>max</th>\n",
              "      <td>5.490352e-01</td>\n",
              "      <td>2.062519e+00</td>\n",
              "      <td>1.249249e+01</td>\n",
              "      <td>6.961834e+00</td>\n",
              "      <td>8.185308e+00</td>\n",
              "      <td>1.079826e+00</td>\n",
              "      <td>1.820177e+00</td>\n",
              "      <td>4.137890e+00</td>\n",
              "      <td>4.611719e+00</td>\n",
              "      <td>4.722546e+00</td>\n",
              "      <td>...</td>\n",
              "      <td>0.0</td>\n",
              "      <td>0.0</td>\n",
              "      <td>1.756957e+00</td>\n",
              "      <td>1.796693e+01</td>\n",
              "      <td>1.079855e+02</td>\n",
              "      <td>3.054407e+02</td>\n",
              "      <td>2.159780e+02</td>\n",
              "      <td>305.440665</td>\n",
              "      <td>1.078058e+00</td>\n",
              "      <td>5.463067e-01</td>\n",
              "    </tr>\n",
              "  </tbody>\n",
              "</table>\n",
              "<p>8 rows × 48 columns</p>\n",
              "</div>"
            ],
            "text/plain": [
              "          Caucasian  AfricanAmerican         Asian      Hispanic  \\\n",
              "count  9.329500e+04     9.329500e+04  9.329500e+04  9.329500e+04   \n",
              "mean  -1.218574e-18     1.340431e-17  1.035788e-17 -4.508723e-17   \n",
              "std    1.000005e+00     1.000005e+00  1.000005e+00  1.000005e+00   \n",
              "min   -1.821377e+00    -4.848440e-01 -8.004810e-02 -1.436403e-01   \n",
              "25%    5.490352e-01    -4.848440e-01 -8.004810e-02 -1.436403e-01   \n",
              "50%    5.490352e-01    -4.848440e-01 -8.004810e-02 -1.436403e-01   \n",
              "75%    5.490352e-01    -4.848440e-01 -8.004810e-02 -1.436403e-01   \n",
              "max    5.490352e-01     2.062519e+00  1.249249e+01  6.961834e+00   \n",
              "\n",
              "              Other        gender           age  admission_type_id  \\\n",
              "count  9.329500e+04  9.329500e+04  9.329500e+04       9.329500e+04   \n",
              "mean  -1.584146e-17 -2.802720e-17 -3.168292e-17       9.748590e-17   \n",
              "std    1.000005e+00  1.000005e+00  1.000005e+00       1.000005e+00   \n",
              "min   -1.221701e-01 -9.260751e-01 -3.849467e+00      -6.959781e-01   \n",
              "25%   -1.221701e-01 -9.260751e-01 -6.996649e-01      -6.959781e-01   \n",
              "50%   -1.221701e-01 -9.260751e-01 -6.970450e-02      -6.959781e-01   \n",
              "75%   -1.221701e-01  1.079826e+00  5.602559e-01       6.851271e-01   \n",
              "max    8.185308e+00  1.079826e+00  1.820177e+00       4.137890e+00   \n",
              "\n",
              "       discharge_disposition_id  admission_source_id  ...  examide  \\\n",
              "count              9.329500e+04         9.329500e+04  ...  93295.0   \n",
              "mean               3.533864e-17         4.386865e-17  ...      0.0   \n",
              "std                1.000005e+00         1.000005e+00  ...      0.0   \n",
              "min               -5.134565e-01        -1.187037e+00  ...      0.0   \n",
              "25%               -5.134565e-01        -1.187037e+00  ...      0.0   \n",
              "50%               -5.134565e-01         2.903589e-01  ...      0.0   \n",
              "75%               -1.338139e-01         2.903589e-01  ...      0.0   \n",
              "max                4.611719e+00         4.722546e+00  ...      0.0   \n",
              "\n",
              "       citoglipton       insulin  glyburide-metformin  glipizide-metformin  \\\n",
              "count      93295.0  9.329500e+04         9.329500e+04         9.329500e+04   \n",
              "mean           0.0  2.376219e-17         1.279502e-17         1.599378e-18   \n",
              "std            0.0  1.000005e+00         1.000005e+00         1.000005e+00   \n",
              "min            0.0 -9.699654e-01        -8.325847e-02        -9.260500e-03   \n",
              "25%            0.0 -9.699654e-01        -8.325847e-02        -9.260500e-03   \n",
              "50%            0.0 -6.099124e-02        -8.325847e-02        -9.260500e-03   \n",
              "75%            0.0  8.479829e-01        -8.325847e-02        -9.260500e-03   \n",
              "max            0.0  1.756957e+00         1.796693e+01         1.079855e+02   \n",
              "\n",
              "       glimepiride-pioglitazone  metformin-rosiglitazone  \\\n",
              "count              9.329500e+04             9.329500e+04   \n",
              "mean              -2.094424e-19             2.894113e-18   \n",
              "std                1.000005e+00             1.000005e+00   \n",
              "min               -3.273958e-03            -4.630101e-03   \n",
              "25%               -3.273958e-03            -4.630101e-03   \n",
              "50%               -3.273958e-03            -4.630101e-03   \n",
              "75%               -3.273958e-03            -4.630101e-03   \n",
              "max                3.054407e+02             2.159780e+02   \n",
              "\n",
              "       metformin-pioglitazone        change   diabetesMed  \n",
              "count            93295.000000  9.329500e+04  9.329500e+04  \n",
              "mean                 0.000000  4.813366e-17 -6.488905e-17  \n",
              "std                  1.000005  1.000005e+00  1.000005e+00  \n",
              "min                 -0.003274 -9.275938e-01 -1.830474e+00  \n",
              "25%                 -0.003274 -9.275938e-01  5.463067e-01  \n",
              "50%                 -0.003274 -9.275938e-01  5.463067e-01  \n",
              "75%                 -0.003274  1.078058e+00  5.463067e-01  \n",
              "max                305.440665  1.078058e+00  5.463067e-01  \n",
              "\n",
              "[8 rows x 48 columns]"
            ]
          },
          "execution_count": 86,
          "metadata": {},
          "output_type": "execute_result"
        }
      ],
      "source": [
        "scaler = StandardScaler()\n",
        "X_array = scaler.fit_transform(X)\n",
        "X = pd.DataFrame(X_array, columns = fnames, index = findex)\n",
        "X.describe()"
      ]
    },
    {
      "cell_type": "code",
      "execution_count": null,
      "metadata": {
        "id": "vVSqH265G8cJ"
      },
      "outputs": [],
      "source": [
        "X_train, X_test, y_train, y_test = train_test_split(X, y,\n",
        "                                                  test_size = 0.2,\n",
        "                                                  random_state = 1, \n",
        "                                                  stratify = y) "
      ]
    },
    {
      "cell_type": "markdown",
      "source": [
        "## Clustering"
      ],
      "metadata": {
        "id": "gyW7JyFFM8dT"
      }
    },
    {
      "cell_type": "code",
      "source": [
        "scaler = MinMaxScaler()\n",
        "norm_customer = pd.DataFrame(data = scaler.fit_transform(db), columns = db.columns)\n",
        "norm_customer.describe()"
      ],
      "metadata": {
        "id": "aK8fRwpYNA7Y"
      },
      "execution_count": null,
      "outputs": []
    },
    {
      "cell_type": "code",
      "source": [
        "sse = [] # Sum of Squared Error of data points to centroid; The smaller the better.\n",
        "for i in range(1, 20): # get the prefect number of clusters from 1 to 20\n",
        "    customer_kmeans = KMeans(n_clusters = i, random_state = 42)\n",
        "    customer_kmeans.fit(norm_customer)\n",
        "    sse.append(customer_kmeans.inertia_)\n",
        "    \n",
        "plt.plot(range(1, 20), sse, marker = 'o')\n",
        "plt.plot(4, sse[3], color = 'r', marker = 'o') # plot red mark on k = 4\n",
        "plt.xlabel('Number of clusters')\n",
        "plt.ylabel('SSE')\n",
        "plt.show()"
      ],
      "metadata": {
        "id": "yTuFpsEwNC21"
      },
      "execution_count": null,
      "outputs": []
    },
    {
      "cell_type": "code",
      "source": [
        "customer_kmeans_4 = KMeans(n_clusters = 4, random_state = 42)\n",
        "customer_kmeans_4.fit(norm_customer)\n",
        "#customer_kmeans_4.labels_"
      ],
      "metadata": {
        "id": "Qkf3WXAtNFvt"
      },
      "execution_count": null,
      "outputs": []
    },
    {
      "cell_type": "code",
      "source": [
        "norm_customer['cluster'] = customer_kmeans_4.labels_\n",
        "print(norm_customer['cluster'].value_counts())\n",
        "norm_customer.describe()"
      ],
      "metadata": {
        "id": "UooZN4ihNHL2"
      },
      "execution_count": null,
      "outputs": []
    },
    {
      "cell_type": "code",
      "source": [
        "#gives mean value for each cluster\n",
        "pd.set_option('display.max_rows', 100)\n",
        "group = norm_customer.groupby('cluster').mean().T\n",
        "group"
      ],
      "metadata": {
        "id": "zoo2EpdHNJKk"
      },
      "execution_count": null,
      "outputs": []
    },
    {
      "cell_type": "markdown",
      "source": [
        "## Random Forest"
      ],
      "metadata": {
        "id": "PypQbl9OI_e1"
      }
    },
    {
      "cell_type": "code",
      "source": [
        "#make pipeline for random forest\n",
        "rf_pp = Pipeline([\n",
        "        ('scaler', StandardScaler()),\n",
        "        ('rf_clf', RandomForestClassifier(n_estimators = 100, random_state = 1))])\n",
        "# Set tuning parameters\n",
        "parameters = {'rf_clf__max_features':(2, 5, 10),\n",
        "              'rf_clf__max_depth': (10, 20, 30)}\n",
        "#Do gridsearch\n",
        "grid_clf = GridSearchCV(rf_pp, \n",
        "                        parameters, \n",
        "                        cv = 3, \n",
        "                        verbose = 3,\n",
        "                        scoring = 'accuracy', \n",
        "                        return_train_score = True)\n",
        "grid_clf.fit(X_train, y_train)\n",
        "\n",
        "# Best Model\n",
        "print(grid_clf.best_params_) # print best paramters and best score\n",
        "print(f'CV score: {grid_clf.best_score_}')\n",
        "\n",
        "# Apply to Test\n",
        "y_test_grid = grid_clf.predict(X_test) #auto chooses best one\n",
        "acc_rf_grid = accuracy_score(y_test, y_test_grid)\n",
        "print(f\"The test data performance for the best rf through grid search is: {acc_rf_grid:.2%}\")\n",
        "print(classification_report(y_test, y_test_grid, digits = 4))"
      ],
      "metadata": {
        "id": "YPkdXA2VJCNz"
      },
      "execution_count": null,
      "outputs": []
    },
    {
      "cell_type": "code",
      "source": [
        "feat_imp = pd.DataFrame(list(zip(X_train.columns, rf_rand_clf.best_estimator_.steps[1][1].feature_importances_)), \n",
        "                       columns = ['feature', 'xg_imp_score']).sort_values(by = 'xg_imp_score', ascending = False)\n",
        "feat_imp"
      ],
      "metadata": {
        "id": "t7CELS5tJeog"
      },
      "execution_count": null,
      "outputs": []
    },
    {
      "cell_type": "markdown",
      "source": [
        "## Log Reg"
      ],
      "metadata": {
        "id": "hXj0zf96IPLf"
      }
    },
    {
      "cell_type": "code",
      "execution_count": null,
      "metadata": {
        "id": "3LYPFxPiG8cM",
        "outputId": "b3d57059-e840-404a-9fdf-f42c6986ecf1"
      },
      "outputs": [
        {
          "name": "stdout",
          "output_type": "stream",
          "text": [
            "The test data performance for the logistic regression is 62.18%\n",
            "              precision    recall  f1-score   support\n",
            "\n",
            "           0     0.6264    0.7399    0.6784     10059\n",
            "           1     0.6139    0.4837    0.5411      8600\n",
            "\n",
            "    accuracy                         0.6218     18659\n",
            "   macro avg     0.6201    0.6118    0.6098     18659\n",
            "weighted avg     0.6206    0.6218    0.6151     18659\n",
            "\n"
          ]
        }
      ],
      "source": [
        "# Train\n",
        "lg_poly = LogisticRegression(random_state = 1, C = 1.0)\n",
        "lg_poly.fit(X_train_poly, y_train)\n",
        "\n",
        "# Test\n",
        "y_pred_lgpoly= lg_poly.predict(X_test_poly)\n",
        "acc_log_poly = accuracy_score(y_test, y_pred_lgpoly)\n",
        "print(f\"The test data performance for the logistic regression is {acc_log_poly:.2%}\")\n",
        "print(classification_report(y_test, y_pred_lgpoly, digits = 4))"
      ]
    },
    {
      "cell_type": "code",
      "execution_count": null,
      "metadata": {
        "id": "6f36UztoG8cM",
        "outputId": "abfe22fe-3e1c-4dc7-aeca-cac3226393b0"
      },
      "outputs": [
        {
          "name": "stdout",
          "output_type": "stream",
          "text": [
            "The test data performance for logistic regression is 62.23%\n",
            "              precision    recall  f1-score   support\n",
            "\n",
            "           0     0.6239    0.7538    0.6827     10059\n",
            "           1     0.6193    0.4685    0.5334      8600\n",
            "\n",
            "    accuracy                         0.6223     18659\n",
            "   macro avg     0.6216    0.6111    0.6081     18659\n",
            "weighted avg     0.6218    0.6223    0.6139     18659\n",
            "\n"
          ]
        }
      ],
      "source": [
        "#from sklearn.pipeline import Pipeline\n",
        "lg_poly_pp = Pipeline([ ('poly_features', PolynomialFeatures(degree = 2)), \n",
        "                        ('logistic_regression', LogisticRegression(random_state = 1, C = 0.15))])\n",
        "\n",
        "lg_poly_pp.fit(X_train, y_train)\n",
        "y_test_lgpolypp = lg_poly_pp.predict(X_test)\n",
        "print(f\"The test data performance for logistic regression is {accuracy_score(y_test, y_test_lgpolypp):.2%}\")\n",
        "print(classification_report(y_test, y_test_lgpolypp, digits = 4))"
      ]
    },
    {
      "cell_type": "code",
      "execution_count": null,
      "metadata": {
        "id": "nZym2vh9G8cN",
        "outputId": "6c3403fc-143f-46bb-e880-98bf35bc91ab"
      },
      "outputs": [
        {
          "data": {
            "text/plain": [
              "number_inpatient     0.465179\n",
              "number_emergency     0.199201\n",
              "number_diagnoses     0.156423\n",
              "diabetesMed          0.131239\n",
              "number_outpatient    0.103599\n",
              "time_in_hospital     0.050592\n",
              "admission_type_id    0.046595\n",
              "change               0.044120\n",
              "age                  0.033039\n",
              "acetohexamide        0.030184\n",
              "dtype: float64"
            ]
          },
          "execution_count": 92,
          "metadata": {},
          "output_type": "execute_result"
        },
        {
          "data": {
            "image/png": "[encoded data removed]",
            "text/plain": [
              "<Figure size 432x288 with 1 Axes>"
            ]
          },
          "metadata": {
            "needs_background": "light"
          },
          "output_type": "display_data"
        }
      ],
      "source": [
        "lg_poly.fit(X,y)\n",
        "importance = lg_poly.coef_[0]\n",
        "feature_importances = pd.Series(importance, index = X_test.columns)\n",
        "feature_importances.nlargest(10).plot(kind='barh', title = 'Feature Importance')\n",
        "feature_importances.sort_values(ascending = False).nlargest(10)"
      ]
    },
    {
      "cell_type": "markdown",
      "source": [
        "##KNN"
      ],
      "metadata": {
        "id": "rbZaYqVcFGfq"
      }
    },
    {
      "cell_type": "code",
      "execution_count": null,
      "metadata": {
        "id": "7ZfunAm4AxCk"
      },
      "outputs": [],
      "source": [
        "X_train, X_test, y_train, y_test = train_test_split(X, y,\n",
        "                                                  test_size = 0.2, #20% for testing and 80% for training\n",
        "                                                  random_state = 1, \n",
        "                                                  stratify = y)"
      ]
    },
    {
      "cell_type": "code",
      "execution_count": null,
      "metadata": {
        "id": "OP6UMl4jAxCl"
      },
      "outputs": [],
      "source": [
        "# Train\n",
        "knn = KNeighborsClassifier(n_neighbors = 7, metric='euclidean') # 'manhattan'/ 'euclidean'\n",
        "knn.fit(X_train, y_train)\n",
        "\n",
        "# Test\n",
        "y_test_knn = knn.predict(X_test)\n",
        "acc_knn = accuracy_score(y_test, y_test_knn)\n",
        "print(f\"The test data performance for the K-nearest neighbor is {acc_knn:.2%}\")\n",
        "print(classification_report(y_test, y_test_knn, digits = 4))"
      ]
    },
    {
      "cell_type": "code",
      "execution_count": null,
      "metadata": {
        "id": "KoY8XHH3AxCl"
      },
      "outputs": [],
      "source": []
    },
    {
      "cell_type": "markdown",
      "source": [
        "## SVM"
      ],
      "metadata": {
        "id": "XUxQIG6ZLBYE"
      }
    },
    {
      "cell_type": "code",
      "source": [
        "rbf_svm_clf = Pipeline([\n",
        "        ('scaler', StandardScaler()),\n",
        "        ('svm_clf', SVC(kernel = 'rbf',\n",
        "                        random_state = 1, gamma = 0.01))])\n",
        "\n",
        "parameters = {'svm_clf__C': (1, 2, 3)}\n",
        "\n",
        "grid_clf = GridSearchCV(rbf_svm_clf, \n",
        "                        parameters, \n",
        "                        cv = 3, \n",
        "                        verbose = 3,\n",
        "                        scoring = 'accuracy', \n",
        "                        return_train_score = True)\n",
        "grid_clf.fit(X_train, y_train)"
      ],
      "metadata": {
        "id": "_gv1LD7eLC2o"
      },
      "execution_count": null,
      "outputs": []
    },
    {
      "cell_type": "code",
      "source": [
        "\n",
        "print(grid_clf.best_params_) # best paramters\n",
        "print(f'CV score: {grid_clf.best_score_}')\n",
        "\n",
        "y_test_grid = grid_clf.predict(X_test)\n",
        "acc_rbf_svm_grid = accuracy_score(y_test, y_test_grid)\n",
        "print(f\"The test data performance for the best rbf svm through grid search is: {acc_rbf_svm_grid:.2%}\")\n",
        "print(classification_report(y_test, y_test_grid, digits = 4))"
      ],
      "metadata": {
        "id": "xtmI7MwVLEzZ"
      },
      "execution_count": null,
      "outputs": []
    },
    {
      "cell_type": "markdown",
      "source": [
        "## XGBOOST"
      ],
      "metadata": {
        "id": "BwqKkRxGLUDN"
      }
    },
    {
      "cell_type": "code",
      "source": [
        "xg = Pipeline([('scaler', StandardScaler()), \n",
        "                ('poly_features', PolynomialFeatures()),\n",
        "                ('fselection', SelectKBest(mutual_info_classif)),\n",
        "                ('xgboost',XGBClassifier(n_estimators = 100, random_state = 1))])\n",
        "\n",
        "parameters = {'poly_features__degree':randint(1,3),\n",
        "              'fselection__k':randint(10,20),\n",
        "              'xgboost__max_depth':randint(3,10),\n",
        "              'xgboost__min_child_weight':randint(1,10),\n",
        "              'xgboost__gamma': uniform(0,1),\n",
        "              'xgboost__learning_rate': uniform(0.05,0.25),\n",
        "              'xgboost__subsample': uniform(0.5,0.4 ),\n",
        "              'xgboost__colsample_bytree':uniform(0.5, 0.4)}\n",
        "\n",
        "\n",
        "# Use the n_iter to control the number of paramter combinations.\n",
        "rand_clf = RandomizedSearchCV(xg, \n",
        "                              parameters, \n",
        "                              n_iter = 10, \n",
        "                              random_state = 1, \n",
        "                              cv = 3, \n",
        "                              verbose = 3,\n",
        "                              scoring = 'accuracy', \n",
        "                              return_train_score = True)\n",
        "rand_clf.fit(X_train, y_train)"
      ],
      "metadata": {
        "id": "AK1ddHsBLVEn"
      },
      "execution_count": null,
      "outputs": []
    },
    {
      "cell_type": "code",
      "source": [
        "print(rand_clf.best_params_) # best paramters\n",
        "print(f'CV score: {rand_clf.best_score_}')\n",
        "\n",
        "# Test\n",
        "y_test_rdCV = rand_clf.predict(X_test)\n",
        "acc_rbf_svm_rd = accuracy_score(y_test, y_test_rdCV)\n",
        "print(f\"The test data performance for the best rbf svm through randomized search is: {acc_rbf_svm_rd:.2%}\")\n",
        "print(classification_report(y_test, y_test_rdCV, digits = 4))"
      ],
      "metadata": {
        "id": "fkCK869hLYK8"
      },
      "execution_count": null,
      "outputs": []
    },
    {
      "cell_type": "markdown",
      "source": [
        " Using this XGBOOST, I was able to achieve the highest accuracy among the other classifiers at 66.63%. To achieve this accuracy, we used RandomSearch to find the best parameters of max_depth, min_child_weight, and gamma. \n"
      ],
      "metadata": {
        "id": "u6QnRBdETPZj"
      }
    },
    {
      "cell_type": "markdown",
      "source": [
        "## Cost Matrix Assumptions"
      ],
      "metadata": {
        "id": "jdHT2hIFOSES"
      }
    },
    {
      "cell_type": "markdown",
      "source": [
        "The cost matrix is from the perspective of the Hospital client. These figures are in dollars and represent hospital gains or losses per patient per year under the model we developed, relative to prior operations. These figures do not include the flat costs of implementing and developing the model (assume negligible figures). "
      ],
      "metadata": {
        "id": "WycIKxYSO2Kl"
      }
    },
    {
      "cell_type": "markdown",
      "source": [
        "![image.png](data:image/png;base64,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)"
      ],
      "metadata": {
        "id": "KibiDo5VO93W"
      }
    },
    {
      "cell_type": "markdown",
      "source": [
        "True positives: Our model predicts readmission and the patient does need readmission. The action cost is for additional readmission programs to help the patient. The benefit is the revenue gained by the hospital for correct care, and the success rate is based on the outcome of patient health. Assuming 17,000 revenue gain and 80% success rate since the failure rate of diabetes care is around 20%. \n",
        "\n",
        "False positives: Our model predicted readmission when no readmission is needed. The cost here is the action cost for the hospital to treat the patient unnecessarily. Assume \\$1000 for a medical weight loss program and $8,000 for an additional 4 days of in-patient care.\n",
        "\n",
        "True negatives: Our model predicts no readmission and the patient does not need readmission. The net cost is 0 since the model does not prompt the doctor to re-evaluate the patient.\n",
        "\n",
        "False negatives: Our model predicts no readmission is needed when the patient actually does need readmission. The net cost is 0 since the model does not prompt the doctor to re-evaluate the patient.\n"
      ],
      "metadata": {
        "id": "Fnsij3oAPDez"
      }
    },
    {
      "cell_type": "code",
      "source": [],
      "metadata": {
        "id": "FcDOjg8NO24O"
      },
      "execution_count": null,
      "outputs": []
    },
    {
      "cell_type": "markdown",
      "source": [
        "## Recommendation"
      ],
      "metadata": {
        "id": "y_61BnXdSxuk"
      }
    },
    {
      "cell_type": "markdown",
      "source": [
        "This model be used in conjunction with doctors’ decisions as a supplementary second opinion. Medical professionals can evaluate the patient based on complex qualitative aspects not captured by this model, but if a patient is flagged for readmission by the model, the doctor should consider the model’s input in their judgment. For those who are recommended for diabetic readmission,  the hospital will allocate resources for diet and fitness programs, extra physician/nurse visits, administrative tasks, and medicine/supplies. For those who are not recommended, there is no net gain or loss for the hospital; patient care ends."
      ],
      "metadata": {
        "id": "yiiL2OLoSzf5"
      }
    },
    {
      "cell_type": "code",
      "source": [],
      "metadata": {
        "id": "KaNb1m1vS1p5"
      },
      "execution_count": null,
      "outputs": []
    }
  ],
  "metadata": {
    "kernelspec": {
      "display_name": "COMM BA Li",
      "language": "python",
      "name": "comm4522_sp22"
    },
    "language_info": {
      "codemirror_mode": {
        "name": "ipython",
        "version": 3
      },
      "file_extension": ".py",
      "mimetype": "text/x-python",
      "name": "python",
      "nbconvert_exporter": "python",
      "pygments_lexer": "ipython3",
      "version": "3.9.11"
    },
    "colab": {
      "name": "UCI.ipynb",
      "provenance": []
    }
  },
  "nbformat": 4,
  "nbformat_minor": 0
}